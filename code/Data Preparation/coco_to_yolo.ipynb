{
 "cells": [
  {
   "cell_type": "code",
   "execution_count": 1,
   "metadata": {},
   "outputs": [],
   "source": [
    "import os\n",
    "import json\n",
    "from pycocotools.coco import COCO"
   ]
  },
  {
   "cell_type": "code",
   "execution_count": 5,
   "metadata": {},
   "outputs": [],
   "source": [
    "# Paths\n",
    "coco_annotation_path = r\"../../data/Traffic-Signs-Detection-Europe-14/train/_annotations.coco.json\"\n",
    "images_dir = r\"../../data/Traffic-Signs-Detection-Europe-14/train/\"\n",
    "output_dir = r\"../../data/YOLO_Data/train\"\n",
    "\n",
    "# Create output directories\n",
    "os.makedirs(output_dir, exist_ok=True)\n",
    "os.makedirs(os.path.join(output_dir, \"images\"), exist_ok=True)\n",
    "os.makedirs(os.path.join(output_dir, \"labels\"), exist_ok=True)"
   ]
  },
  {
   "cell_type": "code",
   "execution_count": 6,
   "metadata": {},
   "outputs": [
    {
     "name": "stdout",
     "output_type": "stream",
     "text": [
      "loading annotations into memory...\n",
      "Done (t=0.09s)\n",
      "creating index...\n",
      "index created!\n"
     ]
    }
   ],
   "source": [
    "# Load COCO annotations\n",
    "coco = COCO(coco_annotation_path)\n",
    "\n",
    "# Get category mapping\n",
    "category_mapping = {cat['id']: cat['name'] for cat in coco.loadCats(coco.getCatIds())}\n",
    "category_id_mapping = {cat_id: idx for idx, cat_id in enumerate(category_mapping.keys())}"
   ]
  },
  {
   "cell_type": "code",
   "execution_count": 9,
   "metadata": {},
   "outputs": [
    {
     "data": {
      "text/plain": [
       "{0: 'Traffic-sings',\n",
       " 1: 'forb_ahead',\n",
       " 2: 'forb_left',\n",
       " 3: 'forb_overtake',\n",
       " 4: 'forb_right',\n",
       " 5: 'forb_speed_over_10',\n",
       " 6: 'forb_speed_over_100',\n",
       " 7: 'forb_speed_over_130',\n",
       " 8: 'forb_speed_over_20',\n",
       " 9: 'forb_speed_over_30',\n",
       " 10: 'forb_speed_over_40',\n",
       " 11: 'forb_speed_over_5',\n",
       " 12: 'forb_speed_over_50',\n",
       " 13: 'forb_speed_over_60',\n",
       " 14: 'forb_speed_over_70',\n",
       " 15: 'forb_speed_over_80',\n",
       " 16: 'forb_speed_over_90',\n",
       " 17: 'forb_stopping',\n",
       " 18: 'forb_trucks',\n",
       " 19: 'forb_u_turn',\n",
       " 20: 'forb_weight_over_3.5t',\n",
       " 21: 'forb_weight_over_7.5t',\n",
       " 22: 'info_bus_station',\n",
       " 23: 'info_crosswalk',\n",
       " 24: 'info_highway',\n",
       " 25: 'info_one_way_traffic',\n",
       " 26: 'info_parking',\n",
       " 27: 'info_taxi_parking',\n",
       " 28: 'mand_bike_lane',\n",
       " 29: 'mand_left',\n",
       " 30: 'mand_left_right',\n",
       " 31: 'mand_pass_left',\n",
       " 32: 'mand_pass_left_right',\n",
       " 33: 'mand_pass_right',\n",
       " 34: 'mand_right',\n",
       " 35: 'mand_roundabout',\n",
       " 36: 'mand_straigh_left',\n",
       " 37: 'mand_straight',\n",
       " 38: 'mand_straight_right',\n",
       " 39: 'prio_give_way',\n",
       " 40: 'prio_priority_road',\n",
       " 41: 'prio_stop',\n",
       " 42: 'warn_children',\n",
       " 43: 'warn_construction',\n",
       " 44: 'warn_crosswalk',\n",
       " 45: 'warn_cyclists',\n",
       " 46: 'warn_domestic_animals',\n",
       " 47: 'warn_other_dangers',\n",
       " 48: 'warn_poor_road_surface',\n",
       " 49: 'warn_roundabout',\n",
       " 50: 'warn_slippery_road',\n",
       " 51: 'warn_speed_bumper',\n",
       " 52: 'warn_traffic_light',\n",
       " 53: 'warn_tram',\n",
       " 54: 'warn_two_way_traffic',\n",
       " 55: 'warn_wild_animals'}"
      ]
     },
     "execution_count": 9,
     "metadata": {},
     "output_type": "execute_result"
    }
   ],
   "source": [
    "category_mapping"
   ]
  },
  {
   "cell_type": "code",
   "execution_count": 8,
   "metadata": {},
   "outputs": [
    {
     "name": "stdout",
     "output_type": "stream",
     "text": [
      "Conversion completed.\n"
     ]
    }
   ],
   "source": [
    "# Process each image\n",
    "for image_info in coco.loadImgs(coco.getImgIds()):\n",
    "    image_id = image_info['id']\n",
    "    image_filename = image_info['file_name']\n",
    "    image_width = image_info['width']\n",
    "    image_height = image_info['height']\n",
    "    \n",
    "    # Copy image to output directory\n",
    "    os.system(f'cp {os.path.join(images_dir, image_filename)} {os.path.join(output_dir, \"images\", image_filename)}')\n",
    "\n",
    "    # Get annotations for the image\n",
    "    annotation_ids = coco.getAnnIds(imgIds=[image_id])\n",
    "    annotations = coco.loadAnns(annotation_ids)\n",
    "    \n",
    "    # Create YOLO format annotation file\n",
    "    yolo_annotations = []\n",
    "    for ann in annotations:\n",
    "        category_id = ann['category_id']\n",
    "        bbox = ann['bbox']\n",
    "        \n",
    "        # COCO format: [x_min, y_min, width, height]\n",
    "        x_min, y_min, width, height = bbox\n",
    "        x_center = x_min + width / 2\n",
    "        y_center = y_min + height / 2\n",
    "        \n",
    "        # Normalize coordinates\n",
    "        x_center /= image_width\n",
    "        y_center /= image_height\n",
    "        width /= image_width\n",
    "        height /= image_height\n",
    "        \n",
    "        yolo_annotations.append(f\"{category_id_mapping[category_id]} {x_center} {y_center} {width} {height}\")\n",
    "    \n",
    "    # Save annotations to file\n",
    "    label_filename = os.path.splitext(image_filename)[0] + '.txt'\n",
    "    with open(os.path.join(output_dir, 'labels', label_filename), 'w') as f:\n",
    "        f.write('\\n'.join(yolo_annotations))\n",
    "\n",
    "print(\"Conversion completed.\")"
   ]
  },
  {
   "cell_type": "code",
   "execution_count": 10,
   "metadata": {},
   "outputs": [
    {
     "name": "stdout",
     "output_type": "stream",
     "text": [
      "loading annotations into memory...\n",
      "Done (t=0.01s)\n",
      "creating index...\n",
      "index created!\n"
     ]
    }
   ],
   "source": [
    "# Paths\n",
    "coco_annotation_path = r\"../../data/Traffic-Signs-Detection-Europe-14/valid/_annotations.coco.json\"\n",
    "images_dir = r\"../../data/Traffic-Signs-Detection-Europe-14/valid/\"\n",
    "output_dir = r\"../../data/YOLO_Data/valid\"\n",
    "\n",
    "# Create output directories\n",
    "os.makedirs(output_dir, exist_ok=True)\n",
    "os.makedirs(os.path.join(output_dir, \"images\"), exist_ok=True)\n",
    "os.makedirs(os.path.join(output_dir, \"labels\"), exist_ok=True)\n",
    "\n",
    "# Load COCO annotations\n",
    "coco = COCO(coco_annotation_path)\n",
    "\n",
    "# Get category mapping\n",
    "category_mapping = {cat['id']: cat['name'] for cat in coco.loadCats(coco.getCatIds())}\n",
    "category_id_mapping = {cat_id: idx for idx, cat_id in enumerate(category_mapping.keys())}"
   ]
  },
  {
   "cell_type": "code",
   "execution_count": 11,
   "metadata": {},
   "outputs": [
    {
     "name": "stdout",
     "output_type": "stream",
     "text": [
      "Conversion completed.\n"
     ]
    }
   ],
   "source": [
    "# Process each image\n",
    "for image_info in coco.loadImgs(coco.getImgIds()):\n",
    "    image_id = image_info['id']\n",
    "    image_filename = image_info['file_name']\n",
    "    image_width = image_info['width']\n",
    "    image_height = image_info['height']\n",
    "    \n",
    "    # Copy image to output directory\n",
    "    os.system(f'cp {os.path.join(images_dir, image_filename)} {os.path.join(output_dir, \"images\", image_filename)}')\n",
    "\n",
    "    # Get annotations for the image\n",
    "    annotation_ids = coco.getAnnIds(imgIds=[image_id])\n",
    "    annotations = coco.loadAnns(annotation_ids)\n",
    "    \n",
    "    # Create YOLO format annotation file\n",
    "    yolo_annotations = []\n",
    "    for ann in annotations:\n",
    "        category_id = ann['category_id']\n",
    "        bbox = ann['bbox']\n",
    "        \n",
    "        # COCO format: [x_min, y_min, width, height]\n",
    "        x_min, y_min, width, height = bbox\n",
    "        x_center = x_min + width / 2\n",
    "        y_center = y_min + height / 2\n",
    "        \n",
    "        # Normalize coordinates\n",
    "        x_center /= image_width\n",
    "        y_center /= image_height\n",
    "        width /= image_width\n",
    "        height /= image_height\n",
    "        \n",
    "        yolo_annotations.append(f\"{category_id_mapping[category_id]} {x_center} {y_center} {width} {height}\")\n",
    "    \n",
    "    # Save annotations to file\n",
    "    label_filename = os.path.splitext(image_filename)[0] + '.txt'\n",
    "    with open(os.path.join(output_dir, 'labels', label_filename), 'w') as f:\n",
    "        f.write('\\n'.join(yolo_annotations))\n",
    "\n",
    "print(\"Conversion completed.\")"
   ]
  },
  {
   "cell_type": "code",
   "execution_count": 18,
   "metadata": {},
   "outputs": [],
   "source": [
    "output_dir = r\"../../data/YOLO_Data/train\"\n",
    "# creating a train.txt file add only like \"./train/images/image_name.jpg\"\n",
    "with open(os.path.join(output_dir, 'train.txt'), 'w') as f:\n",
    "    for image in os.listdir(os.path.join(output_dir, 'images')):\n",
    "        f.write(f\"./train/images/{image}\\n\")"
   ]
  },
  {
   "cell_type": "code",
   "execution_count": 19,
   "metadata": {},
   "outputs": [],
   "source": [
    "output_dir = r\"../../data/YOLO_Data/test\"\n",
    "with open(os.path.join(output_dir, 'test.txt'), 'w') as f:\n",
    "    for image in os.listdir(os.path.join(output_dir, 'images')):\n",
    "        f.write(f\"./test/images/{image}\\n\")"
   ]
  },
  {
   "cell_type": "code",
   "execution_count": 20,
   "metadata": {},
   "outputs": [],
   "source": [
    "output_dir = r\"../../data/YOLO_Data/val\"\n",
    "with open(os.path.join(output_dir, 'val.txt'), 'w') as f:\n",
    "    for image in os.listdir(os.path.join(output_dir, 'images')):\n",
    "        f.write(f\"./val/images/{image}\\n\")"
   ]
  },
  {
   "cell_type": "code",
   "execution_count": null,
   "metadata": {},
   "outputs": [],
   "source": []
  }
 ],
 "metadata": {
  "kernelspec": {
   "display_name": ".venv",
   "language": "python",
   "name": "python3"
  },
  "language_info": {
   "codemirror_mode": {
    "name": "ipython",
    "version": 3
   },
   "file_extension": ".py",
   "mimetype": "text/x-python",
   "name": "python",
   "nbconvert_exporter": "python",
   "pygments_lexer": "ipython3",
   "version": "3.10.2"
  }
 },
 "nbformat": 4,
 "nbformat_minor": 2
}
